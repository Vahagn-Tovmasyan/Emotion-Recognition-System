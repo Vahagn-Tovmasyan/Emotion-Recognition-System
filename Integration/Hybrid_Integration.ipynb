{
  "nbformat": 4,
  "nbformat_minor": 0,
  "metadata": {
    "colab": {
      "provenance": []
    },
    "kernelspec": {
      "name": "python3",
      "display_name": "Python 3"
    },
    "language_info": {
      "name": "python"
    }
  },
  "cells": [
    {
      "cell_type": "markdown",
      "source": [
        "## **Unzip the File**"
      ],
      "metadata": {
        "id": "wM7MUmSP3ge8"
      }
    },
    {
      "cell_type": "code",
      "execution_count": 1,
      "metadata": {
        "id": "tzEy_5jW19-J",
        "colab": {
          "base_uri": "https://localhost:8080/"
        },
        "outputId": "d77ae8ee-598b-4399-d490-6c9ae3a3d378"
      },
      "outputs": [
        {
          "output_type": "stream",
          "name": "stdout",
          "text": [
            "Extraction complete.\n"
          ]
        }
      ],
      "source": [
        "import zipfile\n",
        "\n",
        "# Specify the name of the uploaded zip file\n",
        "zip_file_name = '/content/drive/MyDrive/Capstone(Face, Speech, Recorder).zip'\n",
        "\n",
        "# Specify the directory where you want to extract the contents\n",
        "extract_dir = '/content/Models'\n",
        "\n",
        "# Extract the contents of the zip file\n",
        "with zipfile.ZipFile(zip_file_name, 'r') as zip_ref:\n",
        "    zip_ref.extractall(extract_dir)\n",
        "\n",
        "# Optionally, you can print a message to confirm that the extraction was successful\n",
        "print(\"Extraction complete.\")"
      ]
    },
    {
      "cell_type": "markdown",
      "source": [
        "## **Libraries**"
      ],
      "metadata": {
        "id": "5VfV4TLD3yV7"
      }
    },
    {
      "cell_type": "code",
      "source": [
        "import tensorflow as tf\n",
        "from tensorflow.keras.models import load_model\n",
        "from tensorflow.keras.optimizers import Adamax\n",
        "from PIL import Image\n",
        "import cv2\n",
        "import numpy as np\n",
        "import librosa\n",
        "import pickle\n",
        "from base64 import b64decode\n",
        "from IPython.display import display, Javascript, Image as IPythonImage"
      ],
      "metadata": {
        "id": "guX3Ede-3yqS"
      },
      "execution_count": 1,
      "outputs": []
    },
    {
      "cell_type": "markdown",
      "source": [
        "## **Hybrid Integration of the models**"
      ],
      "metadata": {
        "id": "Qwk57IMS4ecB"
      }
    },
    {
      "cell_type": "markdown",
      "source": [
        "### **Face Recognition model**"
      ],
      "metadata": {
        "id": "J1vfkDY_a-rs"
      }
    },
    {
      "cell_type": "code",
      "source": [
        "# Load and prepare the face recognition model\n",
        "def load_face_model():\n",
        "    model = load_model('/content/drive/MyDrive/face_recognition.h5', compile=False)\n",
        "    model.compile(Adamax(learning_rate=0.001), loss='categorical_crossentropy', metrics=['accuracy'])\n",
        "    return model\n",
        "\n",
        "# Predict emotion from an image\n",
        "def predict_emotion(image_path, model):\n",
        "    image = Image.open(image_path)\n",
        "    img = image.resize((224, 224))\n",
        "    img_array = tf.keras.preprocessing.image.img_to_array(img)\n",
        "    img_array = np.expand_dims(img_array, 0)\n",
        "    predictions = model.predict(img_array)\n",
        "    class_labels = ['Angry', 'Disgust', 'Fear', 'Happy', 'Neutral', 'Sad', 'Surprise']\n",
        "    score = tf.nn.softmax(predictions[0])\n",
        "    return class_labels[np.argmax(score)]"
      ],
      "metadata": {
        "id": "89km5wE74eBy"
      },
      "execution_count": 2,
      "outputs": []
    },
    {
      "cell_type": "markdown",
      "source": [
        "### **Voice Recognition model**"
      ],
      "metadata": {
        "id": "DxYUnsnycYgV"
      }
    },
    {
      "cell_type": "code",
      "source": [
        "# Load the voice recognition model from JSON file\n",
        "def load_voice_model(json_path, weights_path):\n",
        "    with open(json_path, 'r') as json_file:\n",
        "        loaded_model_json = json_file.read()\n",
        "    loaded_model = tf.keras.models.model_from_json(loaded_model_json)\n",
        "    loaded_model.load_weights(weights_path)\n",
        "    print(\"Loaded voice model from disk\")\n",
        "    return loaded_model\n",
        "\n",
        "# Load data using pickle (for scalers and encoders)\n",
        "def load_pickle(path):\n",
        "    with open(path, 'rb') as f:\n",
        "        return pickle.load(f)\n",
        "\n",
        "# Feature extraction functions\n",
        "def zcr(data, frame_length, hop_length):\n",
        "    zcr = librosa.feature.zero_crossing_rate(data, frame_length=frame_length, hop_length=hop_length)\n",
        "    return np.squeeze(zcr)\n",
        "\n",
        "def rmse(data, frame_length=2048, hop_length=512):\n",
        "    rmse = librosa.feature.rms(y=data, frame_length=frame_length, hop_length=hop_length)\n",
        "    return np.squeeze(rmse)\n",
        "\n",
        "def mfcc(data, sr, frame_length=2048, hop_length=512, flatten: bool = True):\n",
        "    mfccs = librosa.feature.mfcc(y=data, sr=sr, n_mfcc=20, hop_length=hop_length, n_fft=frame_length)\n",
        "    return np.squeeze(mfccs.T) if not flatten else np.ravel(mfccs.T)\n",
        "\n",
        "def extract_features(data, sr=22050, frame_length=2048, hop_length=512):\n",
        "    features = np.hstack((\n",
        "        zcr(data, frame_length, hop_length),\n",
        "        rmse(data, frame_length, hop_length),\n",
        "        mfcc(data, sr, frame_length, hop_length)\n",
        "    ))\n",
        "    return features\n",
        "\n",
        "def get_predict_feat(path, scaler):\n",
        "    data, s_rate = librosa.load(path, duration=2.5, offset=0.6)\n",
        "    features = extract_features(data, s_rate)\n",
        "    features = np.reshape(features, newshape=(1, -1))\n",
        "    scaled_features = scaler.transform(features)\n",
        "    scaled_features = np.expand_dims(scaled_features, axis=2)\n",
        "    return scaled_features\n",
        "\n",
        "# Predict emotion from voice using extracted features\n",
        "def voice_prediction(model, audio_path, scaler):\n",
        "    scaled_features = get_predict_feat(audio_path, scaler)\n",
        "    predictions = model.predict(scaled_features)\n",
        "    y_pred = np.argmax(predictions, axis=1)\n",
        "    emotions = {0: 'Neutral', 1: 'Calm', 2: 'Happy', 3: 'Sad', 4: 'Angry', 5: 'Fear', 6: 'Disgust', 7: 'Surprise'}\n",
        "    return emotions[y_pred[0]]"
      ],
      "metadata": {
        "id": "MWKjMotN4iPV"
      },
      "execution_count": 3,
      "outputs": []
    },
    {
      "cell_type": "markdown",
      "source": [
        "### **Hybrid Integration part**"
      ],
      "metadata": {
        "id": "CbF_UK12ckcl"
      }
    },
    {
      "cell_type": "code",
      "source": [
        "# Main processing function to analyze both image and audio\n",
        "def process_image_and_audio(image_path, audio_path):\n",
        "    face_model = load_face_model()\n",
        "    face_emotion = predict_emotion(image_path, face_model)\n",
        "    print(f\"Detected Face Emotion: {face_emotion}\")\n",
        "\n",
        "    voice_model = load_voice_model('/content/Models/Speech Recognition/Model/CNN_model.json', '/content/Models/Speech Recognition/Model/CNN_model_weights.h5')\n",
        "    scaler2 = load_pickle('/content/drive/MyDrive/scaler2.pickle')\n",
        "\n",
        "    voice_emotion = voice_prediction(voice_model, audio_path, scaler2)\n",
        "    print(f\"Detected Voice Emotion: {voice_emotion}\")\n",
        "\n",
        "    if face_emotion == 'Happy' and voice_emotion in ['Happy', 'Calm']:\n",
        "        print(\"Both face and voice are consistent and positive.\")\n",
        "    elif face_emotion == 'Sad' and voice_emotion in ['Sad', 'Calm']:\n",
        "        print(\"Both face and voice are consistent and positive.\")\n",
        "    elif face_emotion == 'Angry' and voice_emotion in ['Angry', 'Fear']:\n",
        "        print(\"Both face and voice are consistent and positive.\")\n",
        "    elif face_emotion == 'Fear' and voice_emotion in ['Fear', 'Surprise']:\n",
        "        print(\"Both face and voice are consistent and positive.\")\n",
        "    elif face_emotion == 'Surprise' and voice_emotion in ['Surprise', 'Happy']:\n",
        "        print(\"Both face and voice are consistent and positive.\")\n",
        "    elif face_emotion == 'Disgust' and voice_emotion in ['Disgust', 'Angry']:\n",
        "        print(\"Both face and voice are consistent and positive.\")\n",
        "    elif face_emotion == 'Neutral' and voice_emotion in ['Neutral', 'Calm']:\n",
        "        print(\"Both face and voice are consistent and positive.\")\n",
        "    else:\n",
        "        print(\"Face and voice emotions do not align well or are not consistent.\")\n",
        "\n",
        "if __name__ == \"__main__\":\n",
        "    image_path = '/content/Models/Face Recognition/Face photos/test/happy/im0.png'\n",
        "    audio_path = '/content/Models/Speech Recognition/Audio Data/Actor_07/03-01-06-02-01-01-07.wav'\n",
        "    process_image_and_audio(image_path, audio_path)"
      ],
      "metadata": {
        "colab": {
          "base_uri": "https://localhost:8080/"
        },
        "id": "CHQPih1n4iFv",
        "outputId": "f221b6ec-0f73-4b73-ee49-a05ea6cc761b"
      },
      "execution_count": 4,
      "outputs": [
        {
          "output_type": "stream",
          "name": "stdout",
          "text": [
            "1/1 [==============================] - 9s 9s/step\n",
            "Detected Face Emotion: Happy\n",
            "Loaded voice model from disk\n"
          ]
        },
        {
          "output_type": "stream",
          "name": "stderr",
          "text": [
            "/usr/local/lib/python3.10/dist-packages/sklearn/base.py:318: UserWarning: Trying to unpickle estimator StandardScaler from version 1.0.2 when using version 1.2.2. This might lead to breaking code or invalid results. Use at your own risk. For more info please refer to:\n",
            "https://scikit-learn.org/stable/model_persistence.html#security-maintainability-limitations\n",
            "  warnings.warn(\n"
          ]
        },
        {
          "output_type": "stream",
          "name": "stdout",
          "text": [
            "1/1 [==============================] - 0s 327ms/step\n",
            "Detected Voice Emotion: Happy\n",
            "Both face and voice are consistent and positive.\n"
          ]
        }
      ]
    },
    {
      "cell_type": "markdown",
      "source": [
        "## **Testing with Live Photo and Voice Recording**"
      ],
      "metadata": {
        "id": "EgLfse9e3lRm"
      }
    },
    {
      "cell_type": "markdown",
      "source": [
        "### **Camera Function**"
      ],
      "metadata": {
        "id": "mKzbjKegfjLN"
      }
    },
    {
      "cell_type": "code",
      "source": [
        "from IPython.display import display, Javascript\n",
        "from google.colab.output import eval_js\n",
        "from base64 import b64decode\n",
        "from IPython.display import Image as IPythonImage\n",
        "import cv2\n",
        "import numpy as np"
      ],
      "metadata": {
        "id": "eV-uga6ydktJ"
      },
      "execution_count": 16,
      "outputs": []
    },
    {
      "cell_type": "code",
      "source": [
        "def take_photo(filename='photo.jpg', quality=0.8):\n",
        "    js = Javascript('''\n",
        "    async function takePhoto(quality) {\n",
        "        const div = document.createElement('div');\n",
        "        const capture = document.createElement('button');\n",
        "        capture.textContent = 'Capture';\n",
        "        div.appendChild(capture);\n",
        "\n",
        "        const video = document.createElement('video');\n",
        "        video.style.display = 'block';\n",
        "        const stream = await navigator.mediaDevices.getUserMedia({video: true});\n",
        "\n",
        "        document.body.appendChild(div);\n",
        "        div.appendChild(video);\n",
        "        video.srcObject = stream;\n",
        "        await video.play();\n",
        "\n",
        "        // Resize the output to fit the video element.\n",
        "        google.colab.output.setIframeHeight(document.documentElement.scrollHeight, true);\n",
        "\n",
        "        // Wait for Capture to be clicked.\n",
        "        await new Promise((resolve) => capture.onclick = resolve);\n",
        "\n",
        "        const canvas = document.createElement('canvas');\n",
        "        canvas.width = video.videoWidth;\n",
        "        canvas.height = video.videoHeight;\n",
        "        canvas.getContext('2d').drawImage(video, 0, 0);\n",
        "        stream.getVideoTracks()[0].stop();\n",
        "        div.remove();\n",
        "        return canvas.toDataURL('image/jpeg', quality);\n",
        "    }\n",
        "    ''')\n",
        "    display(js)\n",
        "    data = eval_js('takePhoto({})'.format(quality))\n",
        "    binary = b64decode(data.split(',')[1])\n",
        "    with open(filename, 'wb') as f:\n",
        "        f.write(binary)\n",
        "    return filename\n",
        "\n",
        "filename = take_photo()\n",
        "\n",
        "# Open the captured image and flip it\n",
        "image = cv2.imread(filename)\n",
        "if image is None:\n",
        "    raise ValueError(\"No image captured or read. Please check camera access and file path.\")\n",
        "flipped_image = cv2.flip(image, 1)  # Flip horizontally\n",
        "\n",
        "# Save the flipped image\n",
        "cv2.imwrite(filename, flipped_image)\n",
        "\n",
        "# Display the flipped image using IPython.display.Image\n",
        "display(IPythonImage(filename))"
      ],
      "metadata": {
        "id": "n2KXNBlh3fir"
      },
      "execution_count": null,
      "outputs": []
    },
    {
      "cell_type": "markdown",
      "source": [
        "### **Voice Recording Function**"
      ],
      "metadata": {
        "id": "zHqC1mzMfZU5"
      }
    },
    {
      "cell_type": "code",
      "source": [
        "from IPython.display import HTML, Audio\n",
        "from google.colab import output\n",
        "from base64 import b64decode\n",
        "import io"
      ],
      "metadata": {
        "id": "8Qme7WEcf386"
      },
      "execution_count": 19,
      "outputs": []
    },
    {
      "cell_type": "code",
      "source": [
        "# JavaScript to handle microphone recording and provide a \"Record\" and \"Stop\" button\n",
        "def record_audio(filename='audio.wav', seconds=5):\n",
        "    RECORD_AUDIO_HTML = f\"\"\"\n",
        "    <script>\n",
        "    function recordAudio(recorder, resolve) {{\n",
        "        recorder.start();\n",
        "        setTimeout(() => {{\n",
        "            recorder.stop();\n",
        "        }}, {seconds * 1000});\n",
        "    }}\n",
        "\n",
        "    function handleSuccess(stream, resolve) {{\n",
        "        const options = {{ mimeType: 'audio/webm' }};\n",
        "        const recordedChunks = [];\n",
        "        const mediaRecorder = new MediaRecorder(stream, options);\n",
        "\n",
        "        mediaRecorder.addEventListener('dataavailable', function(e) {{\n",
        "            if (e.data.size > 0) {{\n",
        "                recordedChunks.push(e.data);\n",
        "            }}\n",
        "        }});\n",
        "\n",
        "        mediaRecorder.addEventListener('stop', function() {{\n",
        "            const blob = new Blob(recordedChunks);\n",
        "            const reader = new FileReader();\n",
        "            reader.readAsDataURL(blob);\n",
        "            reader.onloadend = function() {{\n",
        "                const base64data = reader.result;\n",
        "                resolve(base64data);\n",
        "            }};\n",
        "        }});\n",
        "\n",
        "        recordAudio(mediaRecorder, resolve);\n",
        "    }}\n",
        "\n",
        "    const handleReject = (e) => {{\n",
        "        console.log('navigator.MediaDevices.getUserMedia error: ', e);\n",
        "    }}\n",
        "\n",
        "    async function startRecording() {{\n",
        "        const stream = await navigator.mediaDevices.getUserMedia({{ audio: true }});\n",
        "        new Promise((resolve) => handleSuccess(stream, resolve))\n",
        "        .then((base64data) => {{\n",
        "            google.colab.kernel.invokeFunction('notebook.SaveAudio', [base64data], {{}});\n",
        "        }});\n",
        "    }}\n",
        "\n",
        "    startRecording();\n",
        "    </script>\n",
        "    \"\"\"\n",
        "    display(HTML(RECORD_AUDIO_HTML))\n",
        "    output.register_callback('notebook.SaveAudio', save_audio)\n",
        "\n",
        "def save_audio(base64_audio):\n",
        "    header, data = base64_audio.split(',')\n",
        "    binary_data = b64decode(data)\n",
        "    with open('audio.wav', 'wb') as f:\n",
        "        f.write(binary_data)\n",
        "    print(\"Audio recording saved as 'audio.wav'\")"
      ],
      "metadata": {
        "id": "2BMEQdfl39VA"
      },
      "execution_count": 20,
      "outputs": []
    },
    {
      "cell_type": "code",
      "source": [
        "# Call this function to start recording\n",
        "record_audio(seconds=5)"
      ],
      "metadata": {
        "colab": {
          "base_uri": "https://localhost:8080/",
          "height": 35
        },
        "id": "Lc7mWO9Z1PS9",
        "outputId": "b012e959-94d8-464a-d4b6-334d50612d94"
      },
      "execution_count": 21,
      "outputs": [
        {
          "output_type": "display_data",
          "data": {
            "text/plain": [
              "<IPython.core.display.HTML object>"
            ],
            "text/html": [
              "\n",
              "    <script>\n",
              "    function recordAudio(recorder, resolve) {\n",
              "        recorder.start();\n",
              "        setTimeout(() => {\n",
              "            recorder.stop();\n",
              "        }, 5000);\n",
              "    }\n",
              "\n",
              "    function handleSuccess(stream, resolve) {\n",
              "        const options = { mimeType: 'audio/webm' };\n",
              "        const recordedChunks = [];\n",
              "        const mediaRecorder = new MediaRecorder(stream, options);\n",
              "\n",
              "        mediaRecorder.addEventListener('dataavailable', function(e) {\n",
              "            if (e.data.size > 0) {\n",
              "                recordedChunks.push(e.data);\n",
              "            }\n",
              "        });\n",
              "\n",
              "        mediaRecorder.addEventListener('stop', function() {\n",
              "            const blob = new Blob(recordedChunks);\n",
              "            const reader = new FileReader();\n",
              "            reader.readAsDataURL(blob);\n",
              "            reader.onloadend = function() {\n",
              "                const base64data = reader.result;\n",
              "                resolve(base64data);\n",
              "            };\n",
              "        });\n",
              "\n",
              "        recordAudio(mediaRecorder, resolve);\n",
              "    }\n",
              "\n",
              "    const handleReject = (e) => {\n",
              "        console.log('navigator.MediaDevices.getUserMedia error: ', e);\n",
              "    }\n",
              "\n",
              "    async function startRecording() {\n",
              "        const stream = await navigator.mediaDevices.getUserMedia({ audio: true });\n",
              "        new Promise((resolve) => handleSuccess(stream, resolve))\n",
              "        .then((base64data) => {\n",
              "            google.colab.kernel.invokeFunction('notebook.SaveAudio', [base64data], {});\n",
              "        });\n",
              "    }\n",
              "\n",
              "    startRecording();\n",
              "    </script>\n",
              "    "
            ]
          },
          "metadata": {}
        },
        {
          "output_type": "stream",
          "name": "stdout",
          "text": [
            "Audio recording saved as 'audio.wav'\n"
          ]
        }
      ]
    },
    {
      "cell_type": "code",
      "source": [
        "Audio('audio.wav')  # Playback the recorded audio"
      ],
      "metadata": {
        "colab": {
          "base_uri": "https://localhost:8080/",
          "height": 75
        },
        "id": "KbudrUwP1TQs",
        "outputId": "bf1da216-a682-4b33-96e1-43c0e7913aa1"
      },
      "execution_count": 22,
      "outputs": [
        {
          "output_type": "execute_result",
          "data": {
            "text/plain": [
              "<IPython.lib.display.Audio object>"
            ],
            "text/html": [
              "\n",
              "                <audio  controls=\"controls\" >\n",
              "                    <source src=\"data:audio/x-wav;base64,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\" type=\"audio/x-wav\" />\n",
              "                    Your browser does not support the audio element.\n",
              "                </audio>\n",
              "              "
            ]
          },
          "metadata": {},
          "execution_count": 22
        }
      ]
    },
    {
      "cell_type": "markdown",
      "source": [
        "### **Testing**"
      ],
      "metadata": {
        "id": "AYtAlLf7gY1Q"
      }
    },
    {
      "cell_type": "code",
      "source": [
        "if __name__ == \"__main__\":\n",
        "    image_path = '/content/photo.jpg'\n",
        "    audio_path = '/content/audio.wav'\n",
        "    process_image_and_audio(image_path, audio_path)"
      ],
      "metadata": {
        "colab": {
          "base_uri": "https://localhost:8080/"
        },
        "id": "BXnfS1pq1ZbH",
        "outputId": "d3a98ae5-9524-4384-d0f9-7ce608f96cd3"
      },
      "execution_count": 23,
      "outputs": [
        {
          "output_type": "stream",
          "name": "stdout",
          "text": [
            "1/1 [==============================] - 9s 9s/step\n",
            "Detected Face Emotion: Happy\n",
            "Loaded voice model from disk\n"
          ]
        },
        {
          "output_type": "stream",
          "name": "stderr",
          "text": [
            "/usr/local/lib/python3.10/dist-packages/sklearn/base.py:318: UserWarning: Trying to unpickle estimator StandardScaler from version 1.0.2 when using version 1.2.2. This might lead to breaking code or invalid results. Use at your own risk. For more info please refer to:\n",
            "https://scikit-learn.org/stable/model_persistence.html#security-maintainability-limitations\n",
            "  warnings.warn(\n",
            "<ipython-input-3-876314c1ef90>:37: UserWarning: PySoundFile failed. Trying audioread instead.\n",
            "  data, s_rate = librosa.load(path, duration=2.5, offset=0.6)\n",
            "/usr/local/lib/python3.10/dist-packages/librosa/core/audio.py:183: FutureWarning: librosa.core.audio.__audioread_load\n",
            "\tDeprecated as of librosa version 0.10.0.\n",
            "\tIt will be removed in librosa version 1.0.\n",
            "  y, sr_native = __audioread_load(path, offset, duration, dtype)\n"
          ]
        },
        {
          "output_type": "stream",
          "name": "stdout",
          "text": [
            "1/1 [==============================] - 0s 390ms/step\n",
            "Detected Voice Emotion: Calm\n",
            "Both face and voice are consistent and positive.\n"
          ]
        }
      ]
    }
  ]
}