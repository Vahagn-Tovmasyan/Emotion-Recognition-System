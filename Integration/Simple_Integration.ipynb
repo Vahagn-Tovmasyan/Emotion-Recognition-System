{
  "nbformat": 4,
  "nbformat_minor": 0,
  "metadata": {
    "colab": {
      "provenance": []
    },
    "kernelspec": {
      "name": "python3",
      "display_name": "Python 3"
    },
    "language_info": {
      "name": "python"
    }
  },
  "cells": [
    {
      "cell_type": "markdown",
      "source": [
        "## **Unzip the File**"
      ],
      "metadata": {
        "id": "wM7MUmSP3ge8"
      }
    },
    {
      "cell_type": "code",
      "execution_count": null,
      "metadata": {
        "id": "tzEy_5jW19-J",
        "colab": {
          "base_uri": "https://localhost:8080/"
        },
        "outputId": "bfec98b5-b178-4bac-f04b-8f32b8f92022"
      },
      "outputs": [
        {
          "output_type": "stream",
          "name": "stdout",
          "text": [
            "Extraction complete.\n"
          ]
        }
      ],
      "source": [
        "import zipfile\n",
        "\n",
        "# Specify the name of the uploaded zip file\n",
        "zip_file_name = '/content/drive/MyDrive/Capstone(Face, Speech, Recorder).zip'\n",
        "\n",
        "# Specify the directory where you want to extract the contents\n",
        "extract_dir = '/content/Models'\n",
        "\n",
        "# Extract the contents of the zip file\n",
        "with zipfile.ZipFile(zip_file_name, 'r') as zip_ref:\n",
        "    zip_ref.extractall(extract_dir)\n",
        "\n",
        "# Optionally, you can print a message to confirm that the extraction was successful\n",
        "print(\"Extraction complete.\")"
      ]
    },
    {
      "cell_type": "markdown",
      "source": [
        "## **Libraries**"
      ],
      "metadata": {
        "id": "5VfV4TLD3yV7"
      }
    },
    {
      "cell_type": "code",
      "source": [
        "from IPython.display import display, Javascript, Image as IPythonImage\n",
        "from google.colab.output import eval_js\n",
        "from base64 import b64decode\n",
        "import cv2\n",
        "import numpy as np\n",
        "from PIL import Image\n",
        "import io\n",
        "import tensorflow as tf\n",
        "from tensorflow.keras.optimizers import Adamax\n",
        "from io import BytesIO\n",
        "from google.colab import output\n",
        "from IPython.display import Javascript\n",
        "import IPython.display as ipd\n",
        "import wave\n",
        "import pickle\n",
        "from tensorflow.keras.models import Sequential, model_from_json\n",
        "import librosa"
      ],
      "metadata": {
        "id": "guX3Ede-3yqS"
      },
      "execution_count": 1,
      "outputs": []
    },
    {
      "cell_type": "markdown",
      "source": [
        "## **Face Recognition**"
      ],
      "metadata": {
        "id": "Qwk57IMS4ecB"
      }
    },
    {
      "cell_type": "code",
      "source": [
        "loaded_model = tf.keras.models.load_model('/content/drive/MyDrive/face_recognition.h5', compile=False)\n",
        "loaded_model.compile(Adamax(learning_rate= 0.001), loss= 'categorical_crossentropy', metrics= ['accuracy'])"
      ],
      "metadata": {
        "id": "89km5wE74eBy"
      },
      "execution_count": 2,
      "outputs": []
    },
    {
      "cell_type": "code",
      "source": [
        "image_path = '/content/Models/Face Recognition/Face photos/test/happy/im0.png'\n",
        "image = Image.open(image_path)\n",
        "\n",
        "# Preprocess the image\n",
        "img = image.resize((224, 224))\n",
        "img_array = tf.keras.preprocessing.image.img_to_array(img)\n",
        "img_array = tf.expand_dims(img_array, 0)\n",
        "\n",
        "# Make predictions\n",
        "predictions = loaded_model.predict(img_array)\n",
        "class_labels = ['Angry', 'Disgust', 'Fear', 'Happy', 'Neutral', 'Sad', 'Surprise']\n",
        "score = tf.nn.softmax(predictions[0])\n",
        "print(f\"{class_labels[tf.argmax(score)]}\")"
      ],
      "metadata": {
        "colab": {
          "base_uri": "https://localhost:8080/"
        },
        "id": "MWKjMotN4iPV",
        "outputId": "fa0d2532-2a39-453f-c436-a6c03759fde0"
      },
      "execution_count": 3,
      "outputs": [
        {
          "output_type": "stream",
          "name": "stdout",
          "text": [
            "1/1 [==============================] - 7s 7s/step\n",
            "Happy\n"
          ]
        }
      ]
    },
    {
      "cell_type": "code",
      "source": [
        "image_path = '/content/Models/Face Recognition/Face photos/test/fearful/im1002.png'\n",
        "image = Image.open(image_path)\n",
        "\n",
        "# Preprocess the image\n",
        "img = image.resize((224, 224))\n",
        "img_array = tf.keras.preprocessing.image.img_to_array(img)\n",
        "img_array = tf.expand_dims(img_array, 0)\n",
        "\n",
        "# Make predictions\n",
        "predictions = loaded_model.predict(img_array)\n",
        "class_labels = ['Angry', 'Disgust', 'Fear', 'Happy', 'Neutral', 'Sad', 'Surprise']\n",
        "score = tf.nn.softmax(predictions[0])\n",
        "print(f\"{class_labels[tf.argmax(score)]}\")"
      ],
      "metadata": {
        "colab": {
          "base_uri": "https://localhost:8080/"
        },
        "id": "CHQPih1n4iFv",
        "outputId": "bc0ac944-51c8-4f04-a09a-1a711a02af07"
      },
      "execution_count": 4,
      "outputs": [
        {
          "output_type": "stream",
          "name": "stdout",
          "text": [
            "1/1 [==============================] - 0s 448ms/step\n",
            "Fear\n"
          ]
        }
      ]
    },
    {
      "cell_type": "markdown",
      "source": [
        "## **Testing with Live photo**"
      ],
      "metadata": {
        "id": "EgLfse9e3lRm"
      }
    },
    {
      "cell_type": "code",
      "source": [
        "def take_photo(filename='photo.jpg', quality=0.8):\n",
        "  js = Javascript('''\n",
        "    async function takePhoto(quality) {\n",
        "      const div = document.createElement('div');\n",
        "      const capture = document.createElement('button');\n",
        "      capture.textContent = 'Capture';\n",
        "      div.appendChild(capture);\n",
        "\n",
        "      const video = document.createElement('video');\n",
        "      video.style.display = 'block';\n",
        "      const stream = await navigator.mediaDevices.getUserMedia({video: true});\n",
        "\n",
        "      document.body.appendChild(div);\n",
        "      div.appendChild(video);\n",
        "      video.srcObject = stream;\n",
        "      await video.play();\n",
        "\n",
        "      // Resize the output to fit the video element.\n",
        "      google.colab.output.setIframeHeight(document.documentElement.scrollHeight, true);\n",
        "\n",
        "      // Wait for Capture to be clicked.\n",
        "      await new Promise((resolve) => capture.onclick = resolve);\n",
        "\n",
        "      const canvas = document.createElement('canvas');\n",
        "      canvas.width = video.videoWidth;\n",
        "      canvas.height = video.videoHeight;\n",
        "      canvas.getContext('2d').drawImage(video, 0, 0);\n",
        "      stream.getVideoTracks()[0].stop();\n",
        "      div.remove();\n",
        "      return canvas.toDataURL('image/jpeg', quality);\n",
        "    }\n",
        "    ''')\n",
        "  display(js)\n",
        "  data = eval_js('takePhoto({})'.format(quality))\n",
        "  binary = b64decode(data.split(',')[1])\n",
        "  with open(filename, 'wb') as f:\n",
        "    f.write(binary)\n",
        "  return filename"
      ],
      "metadata": {
        "id": "n2KXNBlh3fir"
      },
      "execution_count": 5,
      "outputs": []
    },
    {
      "cell_type": "code",
      "source": [
        "# Use the function to capture the photo\n",
        "filename = take_photo()\n",
        "\n",
        "# Open the captured image and flip it\n",
        "image = cv2.imread(filename)\n",
        "flipped_image = cv2.flip(image, 1)  # Flip horizontally\n",
        "\n",
        "# Save the flipped image\n",
        "cv2.imwrite(filename, flipped_image)\n",
        "\n",
        "# Display the flipped image using IPython.display.Image\n",
        "display(IPythonImage(filename))"
      ],
      "metadata": {
        "id": "2BMEQdfl39VA"
      },
      "execution_count": null,
      "outputs": []
    },
    {
      "cell_type": "code",
      "source": [
        "image_path = '/content/photo.jpg'\n",
        "image = Image.open(image_path)\n",
        "\n",
        "# Preprocess the image\n",
        "img = image.resize((224, 224))\n",
        "img_array = tf.keras.preprocessing.image.img_to_array(img)\n",
        "img_array = tf.expand_dims(img_array, 0)\n",
        "\n",
        "# Make predictions\n",
        "predictions = loaded_model.predict(img_array)\n",
        "class_labels = ['Angry', 'Disgust', 'Fear', 'Happy', 'Neutral', 'Sad', 'Surprise']\n",
        "score = tf.nn.softmax(predictions[0])\n",
        "print(f\"{class_labels[tf.argmax(score)]}\")"
      ],
      "metadata": {
        "colab": {
          "base_uri": "https://localhost:8080/"
        },
        "id": "p3WUXF_F8faj",
        "outputId": "d6dc1868-78d5-4f47-af05-71aea6c2895e"
      },
      "execution_count": 7,
      "outputs": [
        {
          "output_type": "stream",
          "name": "stdout",
          "text": [
            "1/1 [==============================] - 11s 11s/step\n",
            "Sad\n"
          ]
        }
      ]
    },
    {
      "cell_type": "markdown",
      "source": [
        "## **Voice Recognition**"
      ],
      "metadata": {
        "id": "WtRwPQUk-4j9"
      }
    },
    {
      "cell_type": "code",
      "source": [
        "from tensorflow.keras.models import model_from_json\n",
        "import librosa\n",
        "import numpy as np\n",
        "import pickle\n",
        "\n",
        "# Load the Keras model from JSON file\n",
        "def load_model(json_path, weights_path):\n",
        "    with open(json_path, 'r') as json_file:\n",
        "        loaded_model_json = json_file.read()\n",
        "    loaded_model = model_from_json(loaded_model_json)\n",
        "    loaded_model.load_weights(weights_path)\n",
        "    print(\"Loaded model from disk\")\n",
        "    return loaded_model\n",
        "\n",
        "loaded_model = load_model('/content/Models/Speech Recognition/Model/CNN_model.json',\n",
        "                          '/content/Models/Speech Recognition/Model/CNN_model_weights.h5')\n",
        "\n",
        "# Load scaler and encoder\n",
        "def load_pickle(path):\n",
        "    with open(path, 'rb') as f:\n",
        "        return pickle.load(f)\n",
        "\n",
        "scaler2 = load_pickle('/content/drive/MyDrive/scaler2.pickle')\n",
        "encoder2 = load_pickle('/content/drive/MyDrive/encoder2.pickle')\n",
        "\n",
        "# Feature extraction functions\n",
        "def zcr(data, frame_length, hop_length):\n",
        "    zcr = librosa.feature.zero_crossing_rate(data, frame_length=frame_length, hop_length=hop_length)\n",
        "    return np.squeeze(zcr)\n",
        "\n",
        "def rmse(data, frame_length=2048, hop_length=512):\n",
        "    rmse = librosa.feature.rms(y=data, frame_length=frame_length, hop_length=hop_length)\n",
        "    return np.squeeze(rmse)\n",
        "\n",
        "def mfcc(data, sr, frame_length=2048, hop_length=512, flatten: bool = True):\n",
        "    mfccs = librosa.feature.mfcc(y=data, sr=sr, n_mfcc=20, hop_length=hop_length, n_fft=frame_length)\n",
        "    return np.squeeze(mfccs.T) if not flatten else np.ravel(mfccs.T)\n",
        "\n",
        "def extract_features(data, sr=22050, frame_length=2048, hop_length=512):\n",
        "    features = np.hstack((\n",
        "        zcr(data, frame_length, hop_length),\n",
        "        rmse(data, frame_length, hop_length),\n",
        "        mfcc(data, sr, frame_length, hop_length)\n",
        "    ))\n",
        "    return features\n",
        "\n",
        "def get_predict_feat(path):\n",
        "    data, s_rate = librosa.load(path, duration=2.5, offset=0.6)\n",
        "    features = extract_features(data)\n",
        "    features = np.reshape(features, newshape=(1, -1))\n",
        "    scaled_features = scaler2.transform(features)\n",
        "    scaled_features = np.expand_dims(scaled_features, axis=2)\n",
        "    return scaled_features\n",
        "\n",
        "# Prediction function\n",
        "def prediction(path1):\n",
        "    res = get_predict_feat(path1)\n",
        "    predictions = loaded_model.predict(res)\n",
        "    y_pred = np.argmax(predictions, axis=1)\n",
        "    emotions = {0:'Neutral', 1:'Calm', 2:'Happy', 3:'Sad', 4:'Angry', 5:'Fear', 6:'Disgust', 7:'Surprise'}\n",
        "    print(emotions[y_pred[0]])"
      ],
      "metadata": {
        "colab": {
          "base_uri": "https://localhost:8080/"
        },
        "id": "UR2IshimmW0I",
        "outputId": "01ecf5f3-8e6b-45e3-d155-8283369662f4"
      },
      "execution_count": 8,
      "outputs": [
        {
          "output_type": "stream",
          "name": "stdout",
          "text": [
            "Loaded model from disk\n"
          ]
        },
        {
          "output_type": "stream",
          "name": "stderr",
          "text": [
            "/usr/local/lib/python3.10/dist-packages/sklearn/base.py:318: UserWarning: Trying to unpickle estimator StandardScaler from version 1.0.2 when using version 1.2.2. This might lead to breaking code or invalid results. Use at your own risk. For more info please refer to:\n",
            "https://scikit-learn.org/stable/model_persistence.html#security-maintainability-limitations\n",
            "  warnings.warn(\n",
            "/usr/local/lib/python3.10/dist-packages/sklearn/base.py:318: UserWarning: Trying to unpickle estimator OneHotEncoder from version 1.0.2 when using version 1.2.2. This might lead to breaking code or invalid results. Use at your own risk. For more info please refer to:\n",
            "https://scikit-learn.org/stable/model_persistence.html#security-maintainability-limitations\n",
            "  warnings.warn(\n"
          ]
        }
      ]
    },
    {
      "cell_type": "code",
      "source": [
        "prediction(\"/content/Models/Speech Recognition/Audio Data/Actor_03/03-01-04-02-01-02-03.wav\")"
      ],
      "metadata": {
        "colab": {
          "base_uri": "https://localhost:8080/"
        },
        "id": "euE_rSgQm5CN",
        "outputId": "92cd4dab-7caa-4304-cdef-969e6b300886"
      },
      "execution_count": 9,
      "outputs": [
        {
          "output_type": "stream",
          "name": "stdout",
          "text": [
            "1/1 [==============================] - 0s 346ms/step\n",
            "Fear\n"
          ]
        }
      ]
    },
    {
      "cell_type": "code",
      "source": [
        "prediction(\"/content/Models/Speech Recognition/Audio Data/Actor_07/03-01-06-02-01-01-07.wav\")"
      ],
      "metadata": {
        "colab": {
          "base_uri": "https://localhost:8080/"
        },
        "id": "kgHxPQ5lm6CG",
        "outputId": "2b6d929c-bb30-4487-84e1-c03314032efd"
      },
      "execution_count": 10,
      "outputs": [
        {
          "output_type": "stream",
          "name": "stdout",
          "text": [
            "1/1 [==============================] - 0s 114ms/step\n",
            "Happy\n"
          ]
        }
      ]
    },
    {
      "cell_type": "code",
      "source": [
        "prediction(\"/content/Models/Speech Recognition/Audio Data/Actor_03/03-01-01-01-01-01-03.wav\")"
      ],
      "metadata": {
        "colab": {
          "base_uri": "https://localhost:8080/"
        },
        "id": "WrwiN9WvnXTA",
        "outputId": "7661ed09-f3e1-46f7-b167-babcd0e52dc8"
      },
      "execution_count": 11,
      "outputs": [
        {
          "output_type": "stream",
          "name": "stdout",
          "text": [
            "1/1 [==============================] - 0s 110ms/step\n",
            "Angry\n"
          ]
        }
      ]
    },
    {
      "cell_type": "markdown",
      "source": [
        "## **Recorder**"
      ],
      "metadata": {
        "id": "_unK5Ll66om0"
      }
    },
    {
      "cell_type": "code",
      "source": [
        "from IPython.display import HTML, Audio\n",
        "from google.colab import output\n",
        "from base64 import b64decode\n",
        "import io\n",
        "\n",
        "# JavaScript to handle microphone recording and provide a \"Record\" and \"Stop\" button\n",
        "def record_audio(filename='audio.wav', seconds=5):\n",
        "    RECORD_AUDIO_HTML = f\"\"\"\n",
        "    <script>\n",
        "    function recordAudio(recorder, resolve) {{\n",
        "        recorder.start();\n",
        "        setTimeout(() => {{\n",
        "            recorder.stop();\n",
        "        }}, {seconds * 1000});\n",
        "    }}\n",
        "\n",
        "    function handleSuccess(stream, resolve) {{\n",
        "        const options = {{ mimeType: 'audio/webm' }};\n",
        "        const recordedChunks = [];\n",
        "        const mediaRecorder = new MediaRecorder(stream, options);\n",
        "\n",
        "        mediaRecorder.addEventListener('dataavailable', function(e) {{\n",
        "            if (e.data.size > 0) {{\n",
        "                recordedChunks.push(e.data);\n",
        "            }}\n",
        "        }});\n",
        "\n",
        "        mediaRecorder.addEventListener('stop', function() {{\n",
        "            const blob = new Blob(recordedChunks);\n",
        "            const reader = new FileReader();\n",
        "            reader.readAsDataURL(blob);\n",
        "            reader.onloadend = function() {{\n",
        "                const base64data = reader.result;\n",
        "                resolve(base64data);\n",
        "            }};\n",
        "        }});\n",
        "\n",
        "        recordAudio(mediaRecorder, resolve);\n",
        "    }}\n",
        "\n",
        "    const handleReject = (e) => {{\n",
        "        console.log('navigator.MediaDevices.getUserMedia error: ', e);\n",
        "    }}\n",
        "\n",
        "    async function startRecording() {{\n",
        "        const stream = await navigator.mediaDevices.getUserMedia({{ audio: true }});\n",
        "        new Promise((resolve) => handleSuccess(stream, resolve))\n",
        "        .then((base64data) => {{\n",
        "            google.colab.kernel.invokeFunction('notebook.SaveAudio', [base64data], {{}});\n",
        "        }});\n",
        "    }}\n",
        "\n",
        "    startRecording();\n",
        "    </script>\n",
        "    \"\"\"\n",
        "    display(HTML(RECORD_AUDIO_HTML))\n",
        "    output.register_callback('notebook.SaveAudio', save_audio)\n",
        "\n",
        "def save_audio(base64_audio):\n",
        "    header, data = base64_audio.split(',')\n",
        "    binary_data = b64decode(data)\n",
        "    with open('audio.wav', 'wb') as f:\n",
        "        f.write(binary_data)\n",
        "    print(\"Audio recording saved as 'audio.wav'\")"
      ],
      "metadata": {
        "id": "T6o63D8m0V1K"
      },
      "execution_count": 15,
      "outputs": []
    },
    {
      "cell_type": "code",
      "source": [
        "# Call this function to start recording\n",
        "record_audio(seconds=5)"
      ],
      "metadata": {
        "colab": {
          "base_uri": "https://localhost:8080/",
          "height": 35
        },
        "id": "Lc7mWO9Z1PS9",
        "outputId": "5f28daa1-9b36-4857-de47-3f070020345f"
      },
      "execution_count": 21,
      "outputs": [
        {
          "output_type": "display_data",
          "data": {
            "text/plain": [
              "<IPython.core.display.HTML object>"
            ],
            "text/html": [
              "\n",
              "    <script>\n",
              "    function recordAudio(recorder, resolve) {\n",
              "        recorder.start();\n",
              "        setTimeout(() => {\n",
              "            recorder.stop();\n",
              "        }, 5000);\n",
              "    }\n",
              "\n",
              "    function handleSuccess(stream, resolve) {\n",
              "        const options = { mimeType: 'audio/webm' };\n",
              "        const recordedChunks = [];\n",
              "        const mediaRecorder = new MediaRecorder(stream, options);\n",
              "\n",
              "        mediaRecorder.addEventListener('dataavailable', function(e) {\n",
              "            if (e.data.size > 0) {\n",
              "                recordedChunks.push(e.data);\n",
              "            }\n",
              "        });\n",
              "\n",
              "        mediaRecorder.addEventListener('stop', function() {\n",
              "            const blob = new Blob(recordedChunks);\n",
              "            const reader = new FileReader();\n",
              "            reader.readAsDataURL(blob); \n",
              "            reader.onloadend = function() {\n",
              "                const base64data = reader.result;\n",
              "                resolve(base64data);\n",
              "            };\n",
              "        });\n",
              "\n",
              "        recordAudio(mediaRecorder, resolve);\n",
              "    }\n",
              "\n",
              "    const handleReject = (e) => {\n",
              "        console.log('navigator.MediaDevices.getUserMedia error: ', e);\n",
              "    }\n",
              "\n",
              "    async function startRecording() {\n",
              "        const stream = await navigator.mediaDevices.getUserMedia({ audio: true });\n",
              "        new Promise((resolve) => handleSuccess(stream, resolve))\n",
              "        .then((base64data) => {\n",
              "            google.colab.kernel.invokeFunction('notebook.SaveAudio', [base64data], {});\n",
              "        });\n",
              "    }\n",
              "\n",
              "    startRecording();\n",
              "    </script>\n",
              "    "
            ]
          },
          "metadata": {}
        },
        {
          "output_type": "stream",
          "name": "stdout",
          "text": [
            "Audio recording saved as 'audio.wav'\n"
          ]
        }
      ]
    },
    {
      "cell_type": "code",
      "source": [
        "Audio('audio.wav')  # Playback the recorded audio"
      ],
      "metadata": {
        "colab": {
          "base_uri": "https://localhost:8080/",
          "height": 75
        },
        "id": "KbudrUwP1TQs",
        "outputId": "6f5ccd26-690a-404c-da1a-33fc0c176a2b"
      },
      "execution_count": 22,
      "outputs": [
        {
          "output_type": "execute_result",
          "data": {
            "text/plain": [
              "<IPython.lib.display.Audio object>"
            ],
            "text/html": [
              "\n",
              "                <audio  controls=\"controls\" >\n",
              "                    <source src=\"data:audio/x-wav;base64,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\" type=\"audio/x-wav\" />\n",
              "                    Your browser does not support the audio element.\n",
              "                </audio>\n",
              "              "
            ]
          },
          "metadata": {},
          "execution_count": 22
        }
      ]
    },
    {
      "cell_type": "code",
      "source": [
        "prediction('audio.wav')"
      ],
      "metadata": {
        "colab": {
          "base_uri": "https://localhost:8080/"
        },
        "id": "BXnfS1pq1ZbH",
        "outputId": "ec53d4bd-4e19-45d1-c1e5-e0eb0db51fc0"
      },
      "execution_count": 23,
      "outputs": [
        {
          "output_type": "stream",
          "name": "stderr",
          "text": [
            "<ipython-input-8-5570931356f9>:48: UserWarning: PySoundFile failed. Trying audioread instead.\n",
            "  data, s_rate = librosa.load(path, duration=2.5, offset=0.6)\n",
            "/usr/local/lib/python3.10/dist-packages/librosa/core/audio.py:183: FutureWarning: librosa.core.audio.__audioread_load\n",
            "\tDeprecated as of librosa version 0.10.0.\n",
            "\tIt will be removed in librosa version 1.0.\n",
            "  y, sr_native = __audioread_load(path, offset, duration, dtype)\n"
          ]
        },
        {
          "output_type": "stream",
          "name": "stdout",
          "text": [
            "1/1 [==============================] - 0s 104ms/step\n",
            "Neutral\n"
          ]
        }
      ]
    }
  ]
}